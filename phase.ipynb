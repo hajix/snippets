{
 "metadata": {
  "language_info": {
   "codemirror_mode": {
    "name": "ipython",
    "version": 3
   },
   "file_extension": ".py",
   "mimetype": "text/x-python",
   "name": "python",
   "nbconvert_exporter": "python",
   "pygments_lexer": "ipython3",
   "version": "3.8.5-final"
  },
  "orig_nbformat": 2,
  "kernelspec": {
   "name": "python3",
   "display_name": "Python 3",
   "language": "python"
  }
 },
 "nbformat": 4,
 "nbformat_minor": 2,
 "cells": [
  {
   "source": [
    "import librosa\n",
    "import numpy as np\n",
    "import soundfile as sf\n"
   ],
   "cell_type": "code",
   "metadata": {},
   "execution_count": 1,
   "outputs": []
  },
  {
   "cell_type": "code",
   "execution_count": 2,
   "metadata": {},
   "outputs": [],
   "source": [
    "x, sr = sf.read('resources/sample.wav')\n",
    "D = librosa.stft(x)\n",
    "magnitude, phase = librosa.magphase(D)\n",
    "angle = np.angle(phase)\n",
    "\n",
    "# change phase\n",
    "new_angle = angle + np.random.random()\n",
    "new_phase = np.cos(angle) + np.sin(angle) * 1j\n",
    "x_hat = librosa.istft(magnitude * new_phase)\n",
    "sf.write('recons.wav', x_hat, sr)"
   ]
  },
  {
   "cell_type": "code",
   "execution_count": null,
   "metadata": {},
   "outputs": [],
   "source": []
  }
 ]
}